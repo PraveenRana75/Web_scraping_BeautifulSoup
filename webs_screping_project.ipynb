{
 "cells": [
  {
   "cell_type": "code",
   "execution_count": null,
   "id": "d3df0932-f091-4831-95f6-128a3e8a9069",
   "metadata": {},
   "outputs": [],
   "source": [
    "import pandas as pd\n",
    "import requests\n",
    "from bs4 import BeautifulSoup"
   ]
  },
  {
   "cell_type": "code",
   "execution_count": null,
   "id": "ce605cc4-6c4e-48df-8ef0-0f9b29978f1a",
   "metadata": {},
   "outputs": [],
   "source": [
    "#this command show erro\n",
    "requests.get('https://www.ambitionbox.com/list-of-companies?page=1')"
   ]
  },
  {
   "cell_type": "code",
   "execution_count": null,
   "id": "197328c4-c220-4d11-b19a-b7241aeb4a9e",
   "metadata": {},
   "outputs": [],
   "source": [
    "requests.get('https://www.ambitionbox.com/list-of-companies?page=1').text\n"
   ]
  },
  {
   "cell_type": "code",
   "execution_count": null,
   "id": "9af0c1d7-59a1-4dd1-b3ec-38f5746c628f",
   "metadata": {},
   "outputs": [],
   "source": [
    "headers = {'User-Agent': 'Mozilla/5.0 (Macintosh; Intel Mac OS X 10.15; rv:101.0) Gecko/20100101 Firefox/101.0'}\n",
    "webpage=requests.get('https://www.ambitionbox.com/list-of-companies?page=1',headers=headers).text"
   ]
  },
  {
   "cell_type": "code",
   "execution_count": null,
   "id": "295e05ac-1e1f-4132-8464-1193d8de9d17",
   "metadata": {},
   "outputs": [],
   "source": [
    "webpage\n"
   ]
  },
  {
   "cell_type": "code",
   "execution_count": null,
   "id": "4dfd0e41-8306-48dd-907c-4a9f9556f416",
   "metadata": {},
   "outputs": [],
   "source": [
    "soup =BeautifulSoup(webpage,'lxml')"
   ]
  },
  {
   "cell_type": "code",
   "execution_count": null,
   "id": "937ca39a-abe3-47dd-a52b-3f8179f1a3c3",
   "metadata": {},
   "outputs": [],
   "source": [
    "soup =BeautifulSoup(webpage,'lxml')"
   ]
  },
  {
   "cell_type": "code",
   "execution_count": null,
   "id": "b68671bc-a053-4ea0-b2cb-a905d42983d1",
   "metadata": {},
   "outputs": [],
   "source": [
    "print(soup.prettify())"
   ]
  },
  {
   "cell_type": "code",
   "execution_count": null,
   "id": "b1467fe3-4186-4a54-93ce-6fd4a50d5462",
   "metadata": {},
   "outputs": [],
   "source": [
    "soup.find_all('h2')"
   ]
  },
  {
   "cell_type": "code",
   "execution_count": null,
   "id": "c34e7a94-06c6-47f8-9278-a643b1fb8e9b",
   "metadata": {},
   "outputs": [],
   "source": [
    "for i in soup.find_all('h2'):\n",
    "    print(i.text.strip())"
   ]
  },
  {
   "cell_type": "code",
   "execution_count": null,
   "id": "83ed1ef9-1113-4811-90fd-35a5b45d7d8f",
   "metadata": {},
   "outputs": [],
   "source": [
    "for i in soup.find_all('span'):\n",
    "    print(i.text.strip().text.strip())"
   ]
  },
  {
   "cell_type": "code",
   "execution_count": null,
   "id": "38c4d25a-48bc-449e-8432-cdcdf48c037c",
   "metadata": {},
   "outputs": [],
   "source": [
    "soup.find_all('span',class_='companyCardWrapper')"
   ]
  },
  {
   "cell_type": "code",
   "execution_count": null,
   "id": "9086cdc2-147c-4f7d-9399-cdf056c84948",
   "metadata": {},
   "outputs": [],
   "source": [
    "company=soup.find_all('div',class_='companyCardWrapper')\n",
    "len(company)"
   ]
  },
  {
   "cell_type": "code",
   "execution_count": null,
   "id": "be7832eb-ad10-4669-ae4c-df6c5a35d447",
   "metadata": {},
   "outputs": [],
   "source": [
    "name =[]\n",
    "rating=[]\n",
    "review =[]\n",
    "salary =[]\n",
    "hrating =[]\n",
    "for i in company:\n",
    "    name.append(i.find('h2').text.strip())\n",
    "    rating.append(i.find_all('span',class_='companyCardWrapper__companyRatingValue')[0].text.strip())\n",
    "    review.append(i.find('span',class_='companyCardWrapper__ActionCount').text.strip())\n",
    "    hrating.append(i.find('span',class_='companyCardWrapper__ratingValues').text.strip())\n",
    "    \n",
    "    "
   ]
  },
  {
   "cell_type": "code",
   "execution_count": null,
   "id": "64335494-66d4-49fc-8e14-31f3b8a9755f",
   "metadata": {},
   "outputs": [],
   "source": [
    "rating=[]\n",
    "for i in company:\n",
    "    print(i.find('span').text.strip())\n",
    "    rating.append(i.find_all)"
   ]
  },
  {
   "cell_type": "code",
   "execution_count": null,
   "id": "63af314b-9068-4fe7-a093-84decdef0b47",
   "metadata": {},
   "outputs": [],
   "source": [
    "len(rating)"
   ]
  },
  {
   "cell_type": "code",
   "execution_count": null,
   "id": "08cb2a88-f18b-431e-b574-67d84e75c3e4",
   "metadata": {},
   "outputs": [],
   "source": [
    "len(review)"
   ]
  },
  {
   "cell_type": "code",
   "execution_count": null,
   "id": "c7179858-53b3-4af8-93ba-e368dd703b26",
   "metadata": {},
   "outputs": [],
   "source": [
    "company[0].find_all('span',class_='infoEntity')[1].text.strip()"
   ]
  },
  {
   "cell_type": "code",
   "execution_count": null,
   "id": "cf07fa37-b026-4e1c-8f74-db0bab14e596",
   "metadata": {},
   "outputs": [],
   "source": [
    "len(hrating)"
   ]
  },
  {
   "cell_type": "code",
   "execution_count": null,
   "id": "6d63f60d-dc31-4d9f-b2be-712d4c6cc09d",
   "metadata": {},
   "outputs": [],
   "source": [
    "d={'name':name, 'rating':rating, 'review':review,'salary':salary,'H_rating':hrating}\n",
    "df = pd.DataFrame(d)\n",
    "df"
   ]
  },
  {
   "cell_type": "code",
   "execution_count": null,
   "id": "c41d3937-32d0-48f6-8899-a467880e250a",
   "metadata": {},
   "outputs": [],
   "source": [
    "len(name)"
   ]
  },
  {
   "cell_type": "code",
   "execution_count": null,
   "id": "192db9b9-9f7c-43ce-aa3a-1737e454917a",
   "metadata": {},
   "outputs": [],
   "source": [
    "df"
   ]
  },
  {
   "cell_type": "code",
   "execution_count": null,
   "id": "ad0712bb-342d-40ac-a163-68df0e9bf97c",
   "metadata": {},
   "outputs": [],
   "source": [
    "df = pd.DataFrame(d)"
   ]
  },
  {
   "cell_type": "code",
   "execution_count": null,
   "id": "7d09ac1f-8d1d-4cdd-a621-e353af44a35d",
   "metadata": {},
   "outputs": [],
   "source": [
    "df.shape"
   ]
  },
  {
   "cell_type": "code",
   "execution_count": null,
   "id": "37892cc6-437f-439c-98ce-8c4592caedbe",
   "metadata": {},
   "outputs": [],
   "source": []
  }
 ],
 "metadata": {
  "kernelspec": {
   "display_name": "Python 3 (ipykernel)",
   "language": "python",
   "name": "python3"
  },
  "language_info": {
   "codemirror_mode": {
    "name": "ipython",
    "version": 3
   },
   "file_extension": ".py",
   "mimetype": "text/x-python",
   "name": "python",
   "nbconvert_exporter": "python",
   "pygments_lexer": "ipython3",
   "version": "3.12.3"
  },
  "widgets": {
   "application/vnd.jupyter.widget-state+json": {
    "state": {},
    "version_major": 2,
    "version_minor": 0
   }
  }
 },
 "nbformat": 4,
 "nbformat_minor": 5
}
